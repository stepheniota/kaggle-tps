{
 "cells": [
  {
   "cell_type": "code",
   "execution_count": 1,
   "id": "8f4b2d25-bed4-4dfb-8546-61592ae1931f",
   "metadata": {},
   "outputs": [],
   "source": [
    "from pathlib import Path\n",
    "import collections\n",
    "\n",
    "import numpy as np\n",
    "import pandas as pd\n",
    "\n",
    "from sklearn import cluster, metrics, preprocessing, mixture"
   ]
  },
  {
   "cell_type": "code",
   "execution_count": 2,
   "id": "c306004a-ebe5-4534-8747-bcda424b06b1",
   "metadata": {},
   "outputs": [],
   "source": [
    "input_path = Path(\"../input/data.csv\", index_col=0)\n",
    "submission_path = Path(\"../input/sample_submission.csv\")\n",
    "output_path = Path(\"../submissions/\")\n",
    "\n",
    "data = pd.read_csv(input_path)\n",
    "submission = pd.read_csv(submission_path)"
   ]
  },
  {
   "cell_type": "code",
   "execution_count": 3,
   "id": "0612831f-99f6-40b2-8b67-0d87903b7e7e",
   "metadata": {},
   "outputs": [
    {
     "name": "stdout",
     "output_type": "stream",
     "text": [
      "98000\n"
     ]
    },
    {
     "data": {
      "text/html": [
       "<div>\n",
       "<style scoped>\n",
       "    .dataframe tbody tr th:only-of-type {\n",
       "        vertical-align: middle;\n",
       "    }\n",
       "\n",
       "    .dataframe tbody tr th {\n",
       "        vertical-align: top;\n",
       "    }\n",
       "\n",
       "    .dataframe thead th {\n",
       "        text-align: right;\n",
       "    }\n",
       "</style>\n",
       "<table border=\"1\" class=\"dataframe\">\n",
       "  <thead>\n",
       "    <tr style=\"text-align: right;\">\n",
       "      <th></th>\n",
       "      <th>f_00</th>\n",
       "      <th>f_01</th>\n",
       "      <th>f_02</th>\n",
       "      <th>f_03</th>\n",
       "      <th>f_04</th>\n",
       "      <th>f_05</th>\n",
       "      <th>f_06</th>\n",
       "      <th>f_07</th>\n",
       "      <th>f_08</th>\n",
       "      <th>f_09</th>\n",
       "      <th>...</th>\n",
       "      <th>f_19</th>\n",
       "      <th>f_20</th>\n",
       "      <th>f_21</th>\n",
       "      <th>f_22</th>\n",
       "      <th>f_23</th>\n",
       "      <th>f_24</th>\n",
       "      <th>f_25</th>\n",
       "      <th>f_26</th>\n",
       "      <th>f_27</th>\n",
       "      <th>f_28</th>\n",
       "    </tr>\n",
       "  </thead>\n",
       "  <tbody>\n",
       "    <tr>\n",
       "      <th>0</th>\n",
       "      <td>-0.389420</td>\n",
       "      <td>-0.912791</td>\n",
       "      <td>0.648951</td>\n",
       "      <td>0.589045</td>\n",
       "      <td>-0.830817</td>\n",
       "      <td>0.733624</td>\n",
       "      <td>2.258560</td>\n",
       "      <td>2</td>\n",
       "      <td>13</td>\n",
       "      <td>14</td>\n",
       "      <td>...</td>\n",
       "      <td>-0.478412</td>\n",
       "      <td>-0.757002</td>\n",
       "      <td>-0.763635</td>\n",
       "      <td>-1.090369</td>\n",
       "      <td>1.142641</td>\n",
       "      <td>-0.884274</td>\n",
       "      <td>1.137896</td>\n",
       "      <td>1.309073</td>\n",
       "      <td>1.463002</td>\n",
       "      <td>0.813527</td>\n",
       "    </tr>\n",
       "    <tr>\n",
       "      <th>1</th>\n",
       "      <td>-0.689249</td>\n",
       "      <td>-0.453954</td>\n",
       "      <td>0.654175</td>\n",
       "      <td>0.995248</td>\n",
       "      <td>-1.653020</td>\n",
       "      <td>0.863810</td>\n",
       "      <td>-0.090651</td>\n",
       "      <td>2</td>\n",
       "      <td>3</td>\n",
       "      <td>6</td>\n",
       "      <td>...</td>\n",
       "      <td>-0.428791</td>\n",
       "      <td>-0.089908</td>\n",
       "      <td>-1.784204</td>\n",
       "      <td>-0.839474</td>\n",
       "      <td>0.459685</td>\n",
       "      <td>1.759412</td>\n",
       "      <td>-0.275422</td>\n",
       "      <td>-0.852168</td>\n",
       "      <td>0.562457</td>\n",
       "      <td>-2.680541</td>\n",
       "    </tr>\n",
       "    <tr>\n",
       "      <th>2</th>\n",
       "      <td>0.809079</td>\n",
       "      <td>0.324568</td>\n",
       "      <td>-1.170602</td>\n",
       "      <td>-0.624491</td>\n",
       "      <td>0.105448</td>\n",
       "      <td>0.783948</td>\n",
       "      <td>1.988301</td>\n",
       "      <td>5</td>\n",
       "      <td>11</td>\n",
       "      <td>5</td>\n",
       "      <td>...</td>\n",
       "      <td>-0.413534</td>\n",
       "      <td>-1.602377</td>\n",
       "      <td>1.190984</td>\n",
       "      <td>3.267116</td>\n",
       "      <td>-0.088322</td>\n",
       "      <td>-2.168635</td>\n",
       "      <td>-0.974989</td>\n",
       "      <td>1.335763</td>\n",
       "      <td>-1.110655</td>\n",
       "      <td>-3.630723</td>\n",
       "    </tr>\n",
       "  </tbody>\n",
       "</table>\n",
       "<p>3 rows × 29 columns</p>\n",
       "</div>"
      ],
      "text/plain": [
       "       f_00      f_01      f_02      f_03      f_04      f_05      f_06  f_07  \\\n",
       "0 -0.389420 -0.912791  0.648951  0.589045 -0.830817  0.733624  2.258560     2   \n",
       "1 -0.689249 -0.453954  0.654175  0.995248 -1.653020  0.863810 -0.090651     2   \n",
       "2  0.809079  0.324568 -1.170602 -0.624491  0.105448  0.783948  1.988301     5   \n",
       "\n",
       "   f_08  f_09  ...      f_19      f_20      f_21      f_22      f_23  \\\n",
       "0    13    14  ... -0.478412 -0.757002 -0.763635 -1.090369  1.142641   \n",
       "1     3     6  ... -0.428791 -0.089908 -1.784204 -0.839474  0.459685   \n",
       "2    11     5  ... -0.413534 -1.602377  1.190984  3.267116 -0.088322   \n",
       "\n",
       "       f_24      f_25      f_26      f_27      f_28  \n",
       "0 -0.884274  1.137896  1.309073  1.463002  0.813527  \n",
       "1  1.759412 -0.275422 -0.852168  0.562457 -2.680541  \n",
       "2 -2.168635 -0.974989  1.335763 -1.110655 -3.630723  \n",
       "\n",
       "[3 rows x 29 columns]"
      ]
     },
     "execution_count": 3,
     "metadata": {},
     "output_type": "execute_result"
    }
   ],
   "source": [
    "X = data.drop(columns=\"id\")\n",
    "print(len(X))\n",
    "X.head(3)"
   ]
  },
  {
   "cell_type": "code",
   "execution_count": 4,
   "id": "b6b37073-c4fb-403a-9b1b-2d25b435ef6a",
   "metadata": {},
   "outputs": [],
   "source": [
    "# int_cols = [i for i in X.columns if X[i].dtype == int]\n",
    "# X = X.drop(columns=int_cols)"
   ]
  },
  {
   "cell_type": "code",
   "execution_count": 5,
   "id": "be750915-271c-4f77-a72b-c9e4bf0f2934",
   "metadata": {},
   "outputs": [],
   "source": [
    "X_scaled = preprocessing.RobustScaler().fit_transform(X)\n",
    "X_scaled = preprocessing.PowerTransformer().fit_transform(X_scaled)\n",
    "\n",
    "X_scaled = pd.DataFrame(X_scaled, columns=X.columns)"
   ]
  },
  {
   "cell_type": "code",
   "execution_count": 6,
   "id": "e498fe4e-2ae3-4afd-a99c-f75d557a9466",
   "metadata": {},
   "outputs": [],
   "source": [
    "# gmm = mixture.GaussianMixture(n_components=7, random_state=22)\n",
    "# y_gmm = gmm.fit_predict(X_scaled)\n",
    "# metrics.silhouette_score(X_scaled, y_gmm)"
   ]
  },
  {
   "cell_type": "code",
   "execution_count": 7,
   "id": "94a0a96d-b8ee-415a-9952-e5dc0cc5a901",
   "metadata": {},
   "outputs": [],
   "source": [
    "# submission[\"Predicted\"] = y_gmm\n",
    "# submission.to_csv(output_path/\"submission-gmm-nclusters7-dropints.csv\", index=False)"
   ]
  },
  {
   "cell_type": "code",
   "execution_count": 6,
   "id": "5c7d83a3-0fff-4477-aa2c-85cbe1ba6b70",
   "metadata": {},
   "outputs": [],
   "source": [
    "model = mixture.BayesianGaussianMixture(n_components=7, random_state=1)\n",
    "y_hat = model.fit_predict(X_scaled)"
   ]
  },
  {
   "cell_type": "code",
   "execution_count": 7,
   "id": "7e04cddf-c4ad-4c11-a37c-f4bf00b25715",
   "metadata": {},
   "outputs": [],
   "source": [
    "submission[\"Predicted\"] = y_hat\n",
    "submission.to_csv(output_path/\"submission.csv\", index=False)"
   ]
  },
  {
   "cell_type": "code",
   "execution_count": null,
   "id": "aa864252-e802-443b-8e30-37583b3201de",
   "metadata": {},
   "outputs": [],
   "source": []
  },
  {
   "cell_type": "code",
   "execution_count": null,
   "id": "67980f1c-da9b-447f-bfd5-7a88fdcb4faf",
   "metadata": {},
   "outputs": [],
   "source": [
    "# km = cluster.KMeans(n_clusters=7, random_state=22)\n",
    "# y_km = km.fit_predict(X_scaled)"
   ]
  },
  {
   "cell_type": "code",
   "execution_count": null,
   "id": "9ec5bec7-743e-4cfc-962d-0aa96dba3274",
   "metadata": {},
   "outputs": [],
   "source": [
    "# submission[\"Predicted\"] = y_km\n",
    "# submission.to_csv(output_path/\"submission-km-nclusters7-dropints.csv\", index=False)"
   ]
  },
  {
   "cell_type": "code",
   "execution_count": null,
   "id": "6fc449d9-4341-4084-9d55-ecf1cf9d5097",
   "metadata": {},
   "outputs": [],
   "source": [
    "# submission[\"Predicted\"] = y_gmm\n",
    "# submission.to_csv(output_path/\"submission-bgm-nclusters7-dropints.csv\", index=False)"
   ]
  },
  {
   "cell_type": "code",
   "execution_count": null,
   "id": "bb1f9691-b95c-4454-a001-115b8c5c3767",
   "metadata": {},
   "outputs": [],
   "source": []
  }
 ],
 "metadata": {
  "kernelspec": {
   "display_name": "tabular",
   "language": "python",
   "name": "tabular"
  },
  "language_info": {
   "codemirror_mode": {
    "name": "ipython",
    "version": 3
   },
   "file_extension": ".py",
   "mimetype": "text/x-python",
   "name": "python",
   "nbconvert_exporter": "python",
   "pygments_lexer": "ipython3",
   "version": "3.8.13"
  }
 },
 "nbformat": 4,
 "nbformat_minor": 5
}
